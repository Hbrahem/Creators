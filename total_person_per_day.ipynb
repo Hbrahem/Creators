{
 "cells": [
  {
   "cell_type": "code",
   "execution_count": 27,
   "metadata": {},
   "outputs": [],
   "source": [
    "# Import necessary libraries\n",
    "import pandas as pd\n",
    "from sklearn.model_selection import train_test_split\n",
    "from sklearn.linear_model import LinearRegression\n",
    "from sklearn.metrics import mean_absolute_error\n",
    "import numpy as np\n",
    "import pickle"
   ]
  },
  {
   "cell_type": "markdown",
   "metadata": {},
   "source": [
    "# Data Cleaning and grouping"
   ]
  },
  {
   "cell_type": "code",
   "execution_count": 28,
   "metadata": {},
   "outputs": [],
   "source": [
    "\n",
    "# Load data\n",
    "fact_sales = pd.read_csv('fact_sales.csv')\n",
    "dim_date = pd.read_csv('dim_date.csv')\n",
    "\n",
    "# Merge data\n",
    "merged_data = pd.merge(fact_sales, dim_date, on='id_date')\n",
    "\n",
    "# Extract necessary columns\n",
    "data = merged_data[['access_date', 'number_person']]\n",
    "\n",
    "# Convert 'access_date' to datetime using .loc to avoid the SettingWithCopyWarning\n",
    "data.loc[:, 'access_date'] = pd.to_datetime(data['access_date'])\n",
    "\n",
    "\n",
    "# Group by date and calculate total number of persons per day\n",
    "daily_persons = data.groupby('access_date')['number_person'].sum().reset_index()"
   ]
  },
  {
   "cell_type": "markdown",
   "metadata": {},
   "source": [
    "# Training Model"
   ]
  },
  {
   "cell_type": "code",
   "execution_count": 29,
   "metadata": {},
   "outputs": [],
   "source": [
    "\n",
    "# Split data into train and test sets\n",
    "train, test = train_test_split(daily_persons, test_size=0.2, random_state=42)\n",
    "\n",
    "# Prepare features and target variable\n",
    "X_train = train[['access_date']]\n",
    "y_train = train['number_person']\n",
    "X_test = test[['access_date']]\n",
    "y_test = test['number_person']\n",
    "\n",
    "# Convert datetime to ordinal for model training\n",
    "X_train_ordinal = X_train['access_date'].apply(lambda x: x.toordinal()).values.reshape(-1, 1)\n",
    "X_test_ordinal = X_test['access_date'].apply(lambda x: x.toordinal()).values.reshape(-1, 1)\n",
    "\n",
    "# Initialize and train model\n",
    "model = LinearRegression()\n",
    "model.fit(X_train_ordinal, y_train)\n",
    "\n",
    "# Predict\n",
    "predictions = model.predict(X_test_ordinal)\n"
   ]
  },
  {
   "cell_type": "markdown",
   "metadata": {},
   "source": [
    "# Evaluate"
   ]
  },
  {
   "cell_type": "code",
   "execution_count": 30,
   "metadata": {},
   "outputs": [
    {
     "name": "stdout",
     "output_type": "stream",
     "text": [
      "Mean Absolute Error: 182.7064430409508\n"
     ]
    }
   ],
   "source": [
    "\n",
    "# Evaluate model\n",
    "mae = mean_absolute_error(y_test, predictions)\n",
    "print(\"Mean Absolute Error:\", mae)"
   ]
  },
  {
   "cell_type": "markdown",
   "metadata": {},
   "source": [
    "# Test"
   ]
  },
  {
   "cell_type": "code",
   "execution_count": 31,
   "metadata": {},
   "outputs": [
    {
     "name": "stdout",
     "output_type": "stream",
     "text": [
      "Predictions for future dates: [369.52526989 369.44115065 369.3570314  ... 246.29057791 246.20645867\n",
      " 246.12233942]\n"
     ]
    }
   ],
   "source": [
    "# Make predictions for future dates\n",
    "future_dates = pd.date_range(start='2023-05-06', end='2027-05-12')\n",
    "future_dates_ordinal = np.array([date.toordinal() for date in future_dates]).reshape(-1, 1)\n",
    "future_dates_pred = model.predict(future_dates_ordinal)\n",
    "print(\"Predictions for future dates:\", future_dates_pred)\n"
   ]
  },
  {
   "cell_type": "markdown",
   "metadata": {},
   "source": [
    "# Exporting Model"
   ]
  },
  {
   "cell_type": "code",
   "execution_count": 32,
   "metadata": {},
   "outputs": [],
   "source": [
    "filename ='number_of_persons.sav'\n",
    "pickle.dump(model, open(filename,'wb'))"
   ]
  }
 ],
 "metadata": {
  "kernelspec": {
   "display_name": "Python 3",
   "language": "python",
   "name": "python3"
  },
  "language_info": {
   "codemirror_mode": {
    "name": "ipython",
    "version": 3
   },
   "file_extension": ".py",
   "mimetype": "text/x-python",
   "name": "python",
   "nbconvert_exporter": "python",
   "pygments_lexer": "ipython3",
   "version": "3.8.10"
  }
 },
 "nbformat": 4,
 "nbformat_minor": 2
}

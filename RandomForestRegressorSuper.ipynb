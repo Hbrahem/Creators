{
 "cells": [
  {
   "cell_type": "code",
   "execution_count": 12,
   "metadata": {},
   "outputs": [],
   "source": [
    "import pandas as pd\n",
    "from datetime import datetime\n",
    "from sklearn.model_selection import train_test_split\n",
    "from sklearn.ensemble import RandomForestRegressor\n",
    "from sklearn.metrics import mean_absolute_error\n",
    "import joblib"
   ]
  },
  {
   "cell_type": "code",
   "execution_count": 14,
   "metadata": {},
   "outputs": [
    {
     "name": "stdout",
     "output_type": "stream",
     "text": [
      "Mean Absolute Error: 1.355070316983151\n"
     ]
    },
    {
     "data": {
      "text/plain": [
       "['random_forest_regressor_model.pkl']"
      ]
     },
     "execution_count": 14,
     "metadata": {},
     "output_type": "execute_result"
    }
   ],
   "source": [
    "\n",
    "# Load data from CSV\n",
    "data = pd.read_csv(\"orders.csv\")\n",
    "data['access_time'] = pd.to_datetime(data['access_time'].apply(lambda x: \"1970-01-01 \" + x))\n",
    "# Extract day of the week, hour, and minute features\n",
    "data['day_of_week'] = data['access_time'].dt.dayofweek\n",
    "data['hour_of_day'] = data['access_time'].dt.hour\n",
    "data['minute_of_hour'] = data['access_time'].dt.minute\n",
    "\n",
    "# Separate features and target variable\n",
    "X = data[['day_of_week', 'hour_of_day', 'minute_of_hour']]\n",
    "y = data['number_person']\n",
    "\n",
    "# Split the data into training and testing sets\n",
    "X_train, X_test, y_train, y_test = train_test_split(X, y, test_size=0.2, random_state=42)\n",
    "\n",
    "# Train Random Forest Regressor\n",
    "rf_regressor = RandomForestRegressor(random_state=42)\n",
    "rf_regressor.fit(X_train, y_train)\n",
    "\n"
   ]
  },
  {
   "cell_type": "code",
   "execution_count": 15,
   "metadata": {},
   "outputs": [
    {
     "name": "stdout",
     "output_type": "stream",
     "text": [
      "Mean Absolute Error: 1.355070316983151\n"
     ]
    }
   ],
   "source": [
    "# Evaluate the model\n",
    "y_pred = rf_regressor.predict(X_test)\n",
    "mae = mean_absolute_error(y_test, y_pred)\n",
    "print(\"Mean Absolute Error:\", mae)"
   ]
  },
  {
   "cell_type": "code",
   "execution_count": 16,
   "metadata": {},
   "outputs": [
    {
     "data": {
      "text/plain": [
       "['random_forest_regressor_model.pkl']"
      ]
     },
     "execution_count": 16,
     "metadata": {},
     "output_type": "execute_result"
    }
   ],
   "source": [
    "# Export the trained model\n",
    "joblib.dump(rf_regressor, 'random_forest_regressor_model.pkl')"
   ]
  },
  {
   "cell_type": "code",
   "execution_count": 17,
   "metadata": {},
   "outputs": [
    {
     "name": "stdout",
     "output_type": "stream",
     "text": [
      "Predicted number of people at 2024-05-06 09:30:00 : 7.241594018636074\n"
     ]
    }
   ],
   "source": [
    "import pandas as pd\n",
    "import joblib\n",
    "\n",
    "rf_regressor = joblib.load('random_forest_regressor_model.pkl')\n",
    "\n",
    "def preprocess_datetime(datetime_str):\n",
    "    datetime_obj = pd.to_datetime(datetime_str)\n",
    "    return {\n",
    "        'day_of_week': datetime_obj.dayofweek,\n",
    "        'hour_of_day': datetime_obj.hour,\n",
    "        'minute_of_hour': datetime_obj.minute\n",
    "    }\n",
    "\n",
    "def predict_people_count(input_datetime):\n",
    "    input_features = preprocess_datetime(input_datetime)\n",
    "    input_df = pd.DataFrame([input_features])\n",
    "    predicted_people_count = rf_regressor.predict(input_df)\n",
    "    return predicted_people_count[0]\n",
    "\n",
    "input_datetime = '2024-05-06 09:30:00'\n",
    "predicted_count = predict_people_count(input_datetime)\n",
    "print(\"Predicted number of people at\", input_datetime, \":\", predicted_count)\n"
   ]
  }
 ],
 "metadata": {
  "kernelspec": {
   "display_name": "Python 3",
   "language": "python",
   "name": "python3"
  },
  "language_info": {
   "codemirror_mode": {
    "name": "ipython",
    "version": 3
   },
   "file_extension": ".py",
   "mimetype": "text/x-python",
   "name": "python",
   "nbconvert_exporter": "python",
   "pygments_lexer": "ipython3",
   "version": "3.8.10"
  }
 },
 "nbformat": 4,
 "nbformat_minor": 2
}
